{
 "cells": [
  {
   "cell_type": "code",
   "execution_count": 4,
   "metadata": {},
   "outputs": [],
   "source": [
    "import pandas as pd\n",
    "import numpy as np\n",
    "from sklearn.model_selection import train_test_split\n",
    "from sklearn.preprocessing import StandardScaler\n",
    "from sklearn.linear_model import LogisticRegression\n",
    "from sklearn.metrics import accuracy_score, precision_score, recall_score, f1_score"
   ]
  },
  {
   "cell_type": "code",
   "execution_count": 5,
   "metadata": {},
   "outputs": [],
   "source": [
    "path = \"../data/Formula 1 World Championship (1950 - 2023) Kaggle\"\n",
    "\n",
    "# Load data\n",
    "df_circuits = pd.read_csv(path + \"/circuits.csv\")\n",
    "df_constructor_results = pd.read_csv(path + \"/constructor_results.csv\")\n",
    "df_constructor_standings = pd.read_csv(path + \"/constructor_standings.csv\")\n",
    "df_constructors = pd.read_csv(path + \"/constructors.csv\")\n",
    "df_driver_standings = pd.read_csv(path + \"/driver_standings.csv\")\n",
    "df_drivers = pd.read_csv(path + \"/drivers.csv\")\n",
    "df_lap_times = pd.read_csv(path + \"/lap_times.csv\")\n",
    "df_pit_stops = pd.read_csv(path + \"/pit_stops.csv\")\n",
    "df_qualifying = pd.read_csv(path + \"/qualifying.csv\")\n",
    "df_races = pd.read_csv(path + \"/races.csv\")\n",
    "df_results = pd.read_csv(path + \"/results.csv\")\n",
    "df_seasons = pd.read_csv(path + \"/seasons.csv\")\n",
    "df_sprint_results = pd.read_csv(path + \"/sprint_results.csv\")\n",
    "df_status = pd.read_csv(path + \"/status.csv\")"
   ]
  }
 ],
 "metadata": {
  "kernelspec": {
   "display_name": "ml_2024",
   "language": "python",
   "name": "python3"
  },
  "language_info": {
   "codemirror_mode": {
    "name": "ipython",
    "version": 3
   },
   "file_extension": ".py",
   "mimetype": "text/x-python",
   "name": "python",
   "nbconvert_exporter": "python",
   "pygments_lexer": "ipython3",
   "version": "3.9.18"
  }
 },
 "nbformat": 4,
 "nbformat_minor": 2
}
